{
 "cells": [
  {
   "cell_type": "code",
   "execution_count": 1,
   "id": "welsh-separate",
   "metadata": {},
   "outputs": [],
   "source": [
    "import numpy as np\n",
    "import pandas as pd\n",
    "from math import log, log2, inf\n",
    "\n",
    "import sklearn.tree\n",
    "import graphviz\n",
    "import spacy\n",
    "\n",
    "from sklearn.feature_extraction.text import CountVectorizer, TfidfVectorizer\n",
    "import re #regular expression library for manipulating text\n",
    "import nltk\n",
    "\n",
    "from collections import Counter\n",
    "from sklearn.datasets import make_classification, load_digits\n",
    "from sklearn.linear_model import LogisticRegression, LinearRegression, Lasso, Ridge\n",
    "from sklearn.metrics import roc_curve, roc_auc_score, log_loss, confusion_matrix, accuracy_score, mean_squared_error\n",
    "from sklearn.model_selection import train_test_split, KFold, GridSearchCV\n",
    "from sklearn.preprocessing import minmax_scale, PolynomialFeatures\n",
    "import matplotlib\n",
    "import matplotlib.pyplot as plt\n",
    "from sklearn.neural_network import MLPClassifier\n",
    "\n",
    "import warnings\n",
    "warnings.simplefilter(action='ignore', category=FutureWarning)\n",
    "\n",
    "import time\n",
    "from nltk.stem.porter import PorterStemmer\n",
    "from sklearn.tree import DecisionTreeClassifier\n",
    "import sklearn.neighbors\n",
    "from collections import OrderedDict"
   ]
  },
  {
   "cell_type": "code",
   "execution_count": 2,
   "id": "annoying-arthritis",
   "metadata": {},
   "outputs": [],
   "source": [
    "x_tr = pd.read_csv('data_reviews/x_train.csv')\n",
    "y_tr = pd.read_csv('data_reviews/y_train.csv')\n",
    "\n",
    "x_tr_text = x_tr['text'].values.tolist() #tr_text_list\n",
    "y_tr_text = y_tr['is_positive_sentiment'].to_numpy()\n",
    "\n",
    "documents = x_tr_text"
   ]
  },
  {
   "cell_type": "code",
   "execution_count": 3,
   "id": "local-season",
   "metadata": {},
   "outputs": [],
   "source": [
    "good_list = pd.read_csv('positive-words.txt')\n",
    "good_list2 = good_list['text'].values.tolist()\n",
    "stop_words_list = pd.read_csv('stop-words.txt')\n",
    "stop_words_list2 = stop_words_list['text'].values.tolist()\n",
    "bad_list = pd.read_csv('bad-words.txt')\n",
    "bad_list2 = bad_list['text'].values.tolist()"
   ]
  },
  {
   "cell_type": "code",
   "execution_count": 4,
   "id": "resident-office",
   "metadata": {},
   "outputs": [],
   "source": [
    "#Creating our own tokenizers\n",
    "def simple_tokenizer(str_input):\n",
    "    # Replace anything that is not a letter, number, or hyphen.\n",
    "    # Remove the \"\\-\" to see the effect.\n",
    "    str_input = str_input.replace(\"'\", \"\")\n",
    "    words = re.sub(r\"[^A-Za-z0-9\\-]\", \" \", str_input).lower().split()\n",
    "\n",
    "    # We can also add in some other functionality; note that his will\n",
    "    def prune_bad(w):\n",
    "        for a in range(len(bad_list2)):\n",
    "            if w == bad_list2[a]:\n",
    "                w = 'bad'\n",
    "        return w\n",
    "    \n",
    "    def prune_good(w):\n",
    "        for b in range(len(good_list2)):\n",
    "            if w == good_list2[b]:\n",
    "                w = 'good'\n",
    "        return w\n",
    "    \n",
    "    words = [prune_bad(word) for word in words]\n",
    "    words = [prune_good(word) for word in words]  \n",
    "    \n",
    "    def numbers(w):\n",
    "        if w.isnumeric():\n",
    "            w = 'num'\n",
    "        return w\n",
    "    \n",
    "    words = [numbers(word) for word in words]\n",
    "    \n",
    "    #new code\n",
    "    res = []\n",
    "    [res.append(x) for x in words if x not in res]\n",
    "    \n",
    "    return words"
   ]
  },
  {
   "cell_type": "code",
   "execution_count": 5,
   "id": "interested-destiny",
   "metadata": {},
   "outputs": [
    {
     "name": "stdout",
     "output_type": "stream",
     "text": [
      "Number of features:  4145\n"
     ]
    }
   ],
   "source": [
    "count_vectorizer = CountVectorizer(tokenizer=simple_tokenizer)\n",
    "x = count_vectorizer.fit_transform(documents)\n",
    "features = count_vectorizer.get_feature_names()\n",
    "print(\"Number of features: \", len(features))"
   ]
  },
  {
   "cell_type": "code",
   "execution_count": 6,
   "id": "confidential-treatment",
   "metadata": {},
   "outputs": [],
   "source": [
    "#contains 400_000 vocabulary words with 50-value vector\n",
    "word_embeddings = pd.read_csv('pretrained_word_embeddings/glove.6B.50d.txt.zip',\n",
    "                               header=None, sep=' ', index_col=0,\n",
    "                               nrows=100000, compression='zip', encoding='utf-8', quoting=3)\n",
    "# Build a dict that will map from string word to 50-dim vector\n",
    "word_list = word_embeddings.index.values.tolist()\n",
    "word2vec = OrderedDict(zip(word_list, word_embeddings.values))\n",
    "\n",
    "def word_embed_list(tr_text_list, feat_name, word2vec):\n",
    "    x_word_ = list()\n",
    "    for a in range(len(tr_text_list)):\n",
    "        x_word = list()\n",
    "        temp = tr_text_list[a].split(\" \")\n",
    "        for b in range(len(temp)):\n",
    "            if temp[b] in feat_name:\n",
    "                word = temp[b]\n",
    "                x_word.append(word)\n",
    "        x_word_.append(x_word)\n",
    "\n",
    "    x_vect_2 = list()\n",
    "    x_word_2 = list()\n",
    "    for a in range(len(tr_text_list)):\n",
    "        x_vect = list()\n",
    "        x_word = list()\n",
    "        temp = x_word_[a]\n",
    "        for b in range(len(temp)):\n",
    "            if temp[b] in word2vec:\n",
    "                word = temp[b]\n",
    "                vect = word2vec[word]\n",
    "                x_word.append(word)\n",
    "                x_vect.append(vect)\n",
    "        x_vect_2.append(x_vect)\n",
    "        x_word_2.append(x_word)\n",
    "\n",
    "    x_vect_tot = list()\n",
    "    for a in range(len(x_vect_2)): #for each review\n",
    "        x_vect_sum = np.zeros(50)\n",
    "        for b in range(len(x_vect_2[a])): #for each of the words in one review\n",
    "            x_vect_sum += x_vect_2[a][b]\n",
    "        if len(x_vect_2[a]) != 0:\n",
    "            x_vect_sum = x_vect_sum/(len(x_vect_2[a]))\n",
    "        x_vect_tot.append(x_vect_sum)\n",
    "        \n",
    "    return np.array(x_vect_tot)"
   ]
  },
  {
   "cell_type": "markdown",
   "id": "labeled-composer",
   "metadata": {},
   "source": [
    "# Logistic Regression"
   ]
  },
  {
   "cell_type": "markdown",
   "id": "round-ready",
   "metadata": {},
   "source": [
    "### Basic CountVectorizer with best_params GridSearchCV: Score and Leaderboard Score\n",
    "best parameters = {'C': 1, 'max_iter': 10000, 'penalty': 'l2', 'random_state': 1, 'solver': 'liblinear'}"
   ]
  },
  {
   "cell_type": "code",
   "execution_count": 7,
   "id": "compound-cruise",
   "metadata": {},
   "outputs": [],
   "source": [
    "def CV_logistic(x,y, name='option name'):\n",
    "    #cross validation & calculate the score >80%\n",
    "    #Split up training data to give yourself some y_test data\n",
    "\n",
    "    print(f\"-----------------\\nClassify with {name}, 5 folds\\n-----------------\")\n",
    "    #kfold basically just splits the data automatically and gives better data confidence\n",
    "    k = 5\n",
    "    kfold = KFold(n_splits=k, shuffle = True, random_state = 5)\n",
    "    train_scores = []\n",
    "    test_scores = []\n",
    "\n",
    "    #build and evaluate model for each value C\n",
    "    score_list_tr = list()\n",
    "    score_list_te = list()        \n",
    "    model = LogisticRegression(solver='liblinear', random_state=1, max_iter=10_000, penalty='l2')\n",
    "    for train_idx, test_idx in kfold.split(x):\n",
    "        X_train, X_test = x[train_idx,:], x[test_idx,:],\n",
    "        y_train, y_test = y[train_idx], y[test_idx]\n",
    "        #TRAINING: fit and predict\n",
    "        model.fit(X_train, y_train)\n",
    "        y_prob_tr = model.predict_proba(X_train)\n",
    "        score_tr = model.score(X_train, y_train) \n",
    "        score_list_tr.append(score_tr)\n",
    "        #test stuff now\n",
    "        y_prob_te = model.predict_proba(X_test)\n",
    "        score_te = model.score(X_test, y_test)\n",
    "        score_list_te.append(score_te)\n",
    "\n",
    "    return np.average(score_list_tr), np.average(score_list_te)\n"
   ]
  },
  {
   "cell_type": "code",
   "execution_count": 8,
   "id": "silent-wyoming",
   "metadata": {
    "scrolled": true
   },
   "outputs": [
    {
     "name": "stdout",
     "output_type": "stream",
     "text": [
      "-----------------\n",
      "Classify with Logistic Regression, 5 folds\n",
      "-----------------\n",
      "\n",
      "Average accuracy train:  0.7002083333333334\n",
      "Average accuracy test:  0.68625\n"
     ]
    }
   ],
   "source": [
    "vectorizer = TfidfVectorizer()\n",
    "x_logistic = vectorizer.fit_transform(documents)\n",
    "\n",
    "feat_name = vectorizer.get_feature_names()\n",
    "x_vect_tot = word_embed_list(x_tr_text, feat_name, word2vec)\n",
    "\n",
    "score_tr_log1, score_te_log1 = CV_logistic(x_vect_tot, y_tr_text, name='Logistic Regression')\n",
    "\n",
    "print(\"\\nAverage accuracy train: \", score_tr_log1)\n",
    "print(\"Average accuracy test: \", score_te_log1)"
   ]
  },
  {
   "cell_type": "code",
   "execution_count": null,
   "id": "freelance-ordering",
   "metadata": {
    "scrolled": true
   },
   "outputs": [],
   "source": []
  },
  {
   "cell_type": "markdown",
   "id": "together-immune",
   "metadata": {},
   "source": [
    "### Best CountVectorizer with best_params_ GridSearchCV: Score and Leaderboard Score"
   ]
  },
  {
   "cell_type": "code",
   "execution_count": 9,
   "id": "excellent-sudan",
   "metadata": {},
   "outputs": [
    {
     "name": "stderr",
     "output_type": "stream",
     "text": [
      "C:\\Users\\hdohe\\miniconda3\\envs\\ml135_env\\lib\\site-packages\\sklearn\\feature_extraction\\text.py:383: UserWarning: Your stop_words may be inconsistent with your preprocessing. Tokenizing the stop words generated tokens ['bad', 'good'] not in stop_words.\n",
      "  warnings.warn('Your stop_words may be inconsistent with '\n"
     ]
    },
    {
     "name": "stdout",
     "output_type": "stream",
     "text": [
      "-----------------\n",
      "Classify with Logistic Regression, 5 folds\n",
      "-----------------\n",
      "\n",
      "Average accuracy train:  0.6443749999999999\n",
      "Average accuracy test:  0.6166666666666666\n"
     ]
    }
   ],
   "source": [
    "vectorizer_b = TfidfVectorizer(stop_words = stop_words_list2, tokenizer=simple_tokenizer) #take apostrophe's out here\n",
    "x_logistic = vectorizer_b.fit_transform(documents)\n",
    "\n",
    "feat_name = vectorizer_b.get_feature_names()\n",
    "x_vect_tot = word_embed_list(x_tr_text, feat_name, word2vec)\n",
    "\n",
    "score_tr_log2, score_te_log2 = CV_logistic(x_vect_tot, y_tr_text, name='Logistic Regression')\n",
    "\n",
    "print(\"\\nAverage accuracy train: \", score_tr_log2)\n",
    "print(\"Average accuracy test: \", score_te_log2)"
   ]
  },
  {
   "cell_type": "code",
   "execution_count": null,
   "id": "external-klein",
   "metadata": {},
   "outputs": [],
   "source": []
  },
  {
   "cell_type": "markdown",
   "id": "given-warehouse",
   "metadata": {},
   "source": [
    "# Neural Net (MLP)"
   ]
  },
  {
   "cell_type": "markdown",
   "id": "electronic-bahrain",
   "metadata": {},
   "source": [
    "### Basic CountVectorizer with best_params GridSearchCV\n",
    "Best parameters: {'activation': 'logistic', 'alpha': 0.001, 'max_iter': 10000, 'solver': 'sgd'}"
   ]
  },
  {
   "cell_type": "code",
   "execution_count": 10,
   "id": "random-dallas",
   "metadata": {},
   "outputs": [],
   "source": [
    "def CV_NN(x,y, name='option name'):\n",
    "    #cross validation & calculate the score >80%\n",
    "    #Split up training data to give yourself some y_test data\n",
    "\n",
    "    print(f\"-----------------\\nClassify with {name}, 5 folds\\n-----------------\")\n",
    "    #kfold basically just splits the data automatically and gives better data confidence\n",
    "    k = 5\n",
    "    kfold = KFold(n_splits=k, shuffle = True, random_state = 5)\n",
    "    train_scores = []\n",
    "    test_scores = []\n",
    "\n",
    "    #build and evaluate model for each value C\n",
    "    score_list_tr = list()\n",
    "    score_list_te = list()        \n",
    "    model = MLPClassifier(alpha=0.1, activation='relu', solver='sgd', max_iter=10_000, random_state=1)\n",
    "    for train_idx, test_idx in kfold.split(x):\n",
    "        X_train, X_test = x[train_idx,:], x[test_idx,:],\n",
    "        y_train, y_test = y[train_idx], y[test_idx]\n",
    "        #TRAINING: fit and predict\n",
    "        model.fit(X_train, y_train)\n",
    "        y_prob_tr = model.predict_proba(X_train)\n",
    "        score_tr = model.score(X_train, y_train) \n",
    "        score_list_tr.append(score_tr)\n",
    "        #test stuff now\n",
    "        y_prob_te = model.predict_proba(X_test)\n",
    "        score_te = model.score(X_test, y_test)\n",
    "        score_list_te.append(score_te)\n",
    "\n",
    "    return np.average(score_list_tr), np.average(score_list_te)"
   ]
  },
  {
   "cell_type": "code",
   "execution_count": 11,
   "id": "personalized-college",
   "metadata": {},
   "outputs": [
    {
     "name": "stdout",
     "output_type": "stream",
     "text": [
      "-----------------\n",
      "Classify with Neural Net: MLP, 5 folds\n",
      "-----------------\n",
      "\n",
      "Average accuracy train:  0.6991666666666667\n",
      "Average accuracy test:  0.6879166666666666\n"
     ]
    }
   ],
   "source": [
    "vectorizer = TfidfVectorizer()\n",
    "x_MLP = vectorizer.fit_transform(documents)\n",
    "\n",
    "feat_name = vectorizer.get_feature_names()\n",
    "x_vect_tot = word_embed_list(x_tr_text, feat_name, word2vec)\n",
    "\n",
    "score_tr_mlp1, score_te_mlp1 = CV_NN(x_vect_tot, y_tr_text, name='Neural Net: MLP')\n",
    "\n",
    "print(\"\\nAverage accuracy train: \", score_tr_mlp1)\n",
    "print(\"Average accuracy test: \", score_te_mlp1)"
   ]
  },
  {
   "cell_type": "code",
   "execution_count": 12,
   "id": "institutional-france",
   "metadata": {},
   "outputs": [],
   "source": [
    "#export to leaderboard\n",
    "tr_text_list_y = y_tr['is_positive_sentiment'].to_numpy()\n",
    "x_test_df = pd.read_csv('data_reviews/x_test.csv')\n",
    "te_text_list = x_test_df['text'].values.tolist()\n",
    "\n",
    "#vectorizer TEST data\n",
    "vectorizer_test = TfidfVectorizer()\n",
    "#fit transformed to x training text data (used to be X_Option1)\n",
    "fitTransform_xTrain = vectorizer_test.fit_transform(documents) \n",
    "feat_name = vectorizer_test.get_feature_names()\n",
    "\n",
    "\n",
    "#the new x training numerical data instead of X_option1 (used to be x_vect_tot)\n",
    "wordEmbed_xTrain = word_embed_list(documents, feat_name, word2vec) #different because not using documents\n",
    "\n",
    "#fit logistic regression model\n",
    "model = MLPClassifier(alpha=0.1, activation='relu', solver='sgd', max_iter=10_000, random_state=1)\n",
    "#fit to vectorized x training text data and their y values\n",
    "model.fit(wordEmbed_xTrain, tr_text_list_y) \n",
    "\n",
    "#transform and vectorize test text (used to be X_final_test)\n",
    "transform_testText = vectorizer_test.transform(te_text_list) #this is different frrom first transform\n",
    "\n",
    "\n",
    "#new x test data instead of X_final_test (used to be x_vect_tot_test)\n",
    "wordEmbed_xTest = word_embed_list(te_text_list, feat_name, word2vec)\n",
    "#print(wordEmbed_xTest.shape)\n",
    "\n",
    "#export to leaderboard\n",
    "yproba1_test = model.predict_proba(wordEmbed_xTest)[:,1]\n",
    "np.savetxt('yproba1_test.txt', yproba1_test)"
   ]
  },
  {
   "cell_type": "markdown",
   "id": "unsigned-break",
   "metadata": {},
   "source": [
    "### Best CountVectorizer with best_params_ GridSearchCV: Score and Leaderboard Score"
   ]
  },
  {
   "cell_type": "code",
   "execution_count": 13,
   "id": "handmade-steam",
   "metadata": {},
   "outputs": [
    {
     "name": "stderr",
     "output_type": "stream",
     "text": [
      "C:\\Users\\hdohe\\miniconda3\\envs\\ml135_env\\lib\\site-packages\\sklearn\\feature_extraction\\text.py:383: UserWarning: Your stop_words may be inconsistent with your preprocessing. Tokenizing the stop words generated tokens ['bad', 'good'] not in stop_words.\n",
      "  warnings.warn('Your stop_words may be inconsistent with '\n"
     ]
    },
    {
     "name": "stdout",
     "output_type": "stream",
     "text": [
      "-----------------\n",
      "Classify with Neural Net: MLP, 5 folds\n",
      "-----------------\n",
      "\n",
      "Average accuracy train:  0.6584375\n",
      "Average accuracy test:  0.6295833333333334\n"
     ]
    }
   ],
   "source": [
    "vectorizer_b = TfidfVectorizer(stop_words = stop_words_list2, tokenizer=simple_tokenizer)\n",
    "x_MLP_b = vectorizer_b.fit_transform(documents)\n",
    "\n",
    "feat_name = vectorizer_b.get_feature_names()\n",
    "x_vect_tot = word_embed_list(x_tr_text, feat_name, word2vec)\n",
    "\n",
    "score_tr_mlp2, score_te_mlp2 = CV_NN(x_vect_tot, y_tr_text, name='Neural Net: MLP')\n",
    "\n",
    "print(\"\\nAverage accuracy train: \", score_tr_mlp2)\n",
    "print(\"Average accuracy test: \", score_te_mlp2)"
   ]
  },
  {
   "cell_type": "code",
   "execution_count": null,
   "id": "interim-hormone",
   "metadata": {},
   "outputs": [],
   "source": []
  },
  {
   "cell_type": "markdown",
   "id": "later-vacation",
   "metadata": {},
   "source": [
    "# Decision Tree"
   ]
  },
  {
   "cell_type": "markdown",
   "id": "virgin-michigan",
   "metadata": {},
   "source": [
    "### Basic CountVectorizer with best_params GridSearchCV"
   ]
  },
  {
   "cell_type": "code",
   "execution_count": 14,
   "id": "reverse-peace",
   "metadata": {},
   "outputs": [],
   "source": [
    "def CV_DT(x,y, name='option name'):\n",
    "    #cross validation & calculate the score >80%\n",
    "    #Split up training data to give yourself some y_test data\n",
    "\n",
    "    print(f\"-----------------\\nClassify with {name}, 5 folds\\n-----------------\")\n",
    "    #kfold basically just splits the data automatically and gives better data confidence\n",
    "    k = 5\n",
    "    kfold = KFold(n_splits=k, shuffle = True, random_state = 5)\n",
    "    train_scores = []\n",
    "    test_scores = []\n",
    "\n",
    "    #build and evaluate model for each value C\n",
    "    score_list_tr = list()\n",
    "    score_list_te = list()        \n",
    "    model = DecisionTreeClassifier(random_state=1, min_samples_split=10)\n",
    "    for train_idx, test_idx in kfold.split(x):\n",
    "        X_train, X_test = x[train_idx,:], x[test_idx,:],\n",
    "        y_train, y_test = y[train_idx], y[test_idx]\n",
    "        #TRAINING: fit and predict\n",
    "        model.fit(X_train, y_train)\n",
    "        y_prob_tr = model.predict_proba(X_train)\n",
    "        score_tr = model.score(X_train, y_train) \n",
    "        score_list_tr.append(score_tr)\n",
    "        #test stuff now\n",
    "        y_prob_te = model.predict_proba(X_test)\n",
    "        score_te = model.score(X_test, y_test)\n",
    "        score_list_te.append(score_te)\n",
    "\n",
    "    return np.average(score_list_tr), np.average(score_list_te)"
   ]
  },
  {
   "cell_type": "code",
   "execution_count": 15,
   "id": "through-anatomy",
   "metadata": {},
   "outputs": [
    {
     "name": "stdout",
     "output_type": "stream",
     "text": [
      "-----------------\n",
      "Classify with Decision Tree, 5 folds\n",
      "-----------------\n",
      "\n",
      "Average accuracy train:  0.9176041666666667\n",
      "Average accuracy test:  0.5845833333333335\n"
     ]
    }
   ],
   "source": [
    "vectorizer = TfidfVectorizer()\n",
    "x_DT = vectorizer.fit_transform(documents)\n",
    "\n",
    "feat_name = vectorizer.get_feature_names()\n",
    "x_vect_tot = word_embed_list(x_tr_text, feat_name, word2vec)\n",
    "\n",
    "score_tr_DT1, score_te_DT1 = CV_DT(x_vect_tot, y_tr_text, name='Decision Tree')\n",
    "\n",
    "print(\"\\nAverage accuracy train: \", score_tr_DT1)\n",
    "print(\"Average accuracy test: \", score_te_DT1)"
   ]
  },
  {
   "cell_type": "code",
   "execution_count": null,
   "id": "desirable-klein",
   "metadata": {},
   "outputs": [],
   "source": []
  },
  {
   "cell_type": "markdown",
   "id": "precious-somewhere",
   "metadata": {},
   "source": [
    "### Best CountVectorizer with best_params_ GridSearchCV: Score and Leaderboard Score"
   ]
  },
  {
   "cell_type": "code",
   "execution_count": 16,
   "id": "recorded-gather",
   "metadata": {},
   "outputs": [
    {
     "name": "stderr",
     "output_type": "stream",
     "text": [
      "C:\\Users\\hdohe\\miniconda3\\envs\\ml135_env\\lib\\site-packages\\sklearn\\feature_extraction\\text.py:383: UserWarning: Your stop_words may be inconsistent with your preprocessing. Tokenizing the stop words generated tokens ['bad', 'good'] not in stop_words.\n",
      "  warnings.warn('Your stop_words may be inconsistent with '\n"
     ]
    },
    {
     "name": "stdout",
     "output_type": "stream",
     "text": [
      "-----------------\n",
      "Classify with Decision Tree, 5 folds\n",
      "-----------------\n",
      "\n",
      "Average accuracy train:  0.85375\n",
      "Average accuracy test:  0.56125\n"
     ]
    }
   ],
   "source": [
    "vectorizer_b = TfidfVectorizer(stop_words = stop_words_list2, tokenizer=simple_tokenizer)\n",
    "x_DT_b = vectorizer_b.fit_transform(documents)\n",
    "\n",
    "feat_name = vectorizer_b.get_feature_names()\n",
    "x_vect_tot = word_embed_list(x_tr_text, feat_name, word2vec)\n",
    "\n",
    "score_tr_DT2, score_te_DT2 = CV_DT(x_vect_tot, y_tr_text, name='Decision Tree')\n",
    "\n",
    "print(\"\\nAverage accuracy train: \", score_tr_DT2)\n",
    "print(\"Average accuracy test: \", score_te_DT2)"
   ]
  },
  {
   "cell_type": "code",
   "execution_count": null,
   "id": "dimensional-colors",
   "metadata": {},
   "outputs": [],
   "source": []
  },
  {
   "cell_type": "code",
   "execution_count": 17,
   "id": "computational-friendly",
   "metadata": {},
   "outputs": [
    {
     "data": {
      "image/png": "[encoded data removed]",
      "text/plain": [
       "<Figure size 720x504 with 1 Axes>"
      ]
     },
     "metadata": {
      "needs_background": "light"
     },
     "output_type": "display_data"
    }
   ],
   "source": [
    "N = 3\n",
    "train_score_base = (score_tr_log1, score_tr_mlp1, score_tr_DT1)\n",
    "test_score_base = (score_te_log1, score_te_mlp1, score_te_DT1)\n",
    "train_score_best = (score_tr_log2, score_tr_mlp2, score_tr_DT2)\n",
    "test_score_best = (score_te_log2, score_te_mlp2, score_te_DT2)\n",
    "\n",
    "plt.subplots(figsize=(10, 7))\n",
    "ind = np.arange(N) \n",
    "width = 0.2\n",
    "\n",
    "plt.bar(ind, train_score_base, width, label='Base Train', color = 'limegreen')\n",
    "plt.bar(ind + width, test_score_base, width, label='Base Test', color = 'forestgreen')\n",
    "plt.bar(ind + width + width + .05, train_score_best, width, label='Best Train', color = 'bisque')\n",
    "plt.bar(ind + width + width + width + .05, test_score_best, width, label='Best Test', color = 'darkorange')\n",
    "\n",
    "plt.ylabel('Accuracy Scores')\n",
    "plt.title('Accuracy Scores by Model')\n",
    "\n",
    "plt.xticks(ind + 0.025 + (3*width) / 2, ('Logistic Regression' , 'MLP', 'Decision Tree'))\n",
    "plt.legend(loc=9)\n",
    "\n",
    "for index,data in enumerate(train_score_base):\n",
    "    plt.text(x=index-.075 , y =data+.01 , s='%.2f' % data , fontdict=dict(fontsize=10))\n",
    "\n",
    "for index,data in enumerate(test_score_base):\n",
    "    plt.text(x=index+0.2-.075 , y =data+.01 , s='%.2f' % data , fontdict=dict(fontsize=10))\n",
    "\n",
    "for index,data in enumerate(train_score_best):\n",
    "    plt.text(x=index+0.4+.05-.07 , y =data+.01 , s='%.2f' % data , fontdict=dict(fontsize=10))\n",
    "\n",
    "for index,data in enumerate(test_score_best):\n",
    "    plt.text(x=index+0.6+.05-.07 , y =data+.01 , s='%.2f' % data , fontdict=dict(fontsize=10))\n",
    "\n",
    "plt.show()\n"
   ]
  },
  {
   "cell_type": "code",
   "execution_count": 18,
   "id": "constitutional-chase",
   "metadata": {},
   "outputs": [
    {
     "data": {
      "image/png": "[encoded data removed]",
      "text/plain": [
       "<Figure size 720x504 with 1 Axes>"
      ]
     },
     "metadata": {
      "needs_background": "light"
     },
     "output_type": "display_data"
    }
   ],
   "source": [
    "N = 3\n",
    "train_score_bow = (0.92, 0.78, 0.96)\n",
    "test_score_bow = (0.80, 0.78, 0.75)\n",
    "train_score = (score_tr_log1, score_tr_mlp1, score_tr_DT1)\n",
    "test_score = (score_te_log1, score_te_mlp1, score_te_DT1)\n",
    "plt.subplots(figsize=(10, 7))\n",
    "ind = np.arange(N) \n",
    "width = 0.2\n",
    "plt.bar(ind, train_score_bow, width, label='BoW Train', color='cornflowerblue')\n",
    "plt.bar(ind + width, test_score_bow, width, label='BoW Test', color='royalblue')\n",
    "plt.bar(ind + width + width + 0.05, train_score, width, label='Word Embed Train', color='plum')\n",
    "plt.bar(ind + width + width + width + 0.05, test_score, width, label='Word Embed Test', color='orchid')\n",
    "\n",
    "plt.ylabel('Accuracy Scores')\n",
    "plt.title('Accuracy Scores by Model Comparing Part One to Part Two')\n",
    "\n",
    "plt.xticks(ind + 0.025 + (3*width) / 2, ('Logistic Regression' , 'MLP', 'Decision Tree'))\n",
    "plt.legend(loc=9)\n",
    "\n",
    "for index,data in enumerate(train_score_bow):\n",
    "    plt.text(x=index-.075 , y =data+.01 , s='%.2f' % data , fontdict=dict(fontsize=10))\n",
    "\n",
    "for index,data in enumerate(test_score_bow):\n",
    "    plt.text(x=index+0.2-.075 , y =data+.01 , s='%.2f' % data , fontdict=dict(fontsize=10))\n",
    "\n",
    "for index,data in enumerate(train_score):\n",
    "    plt.text(x=index+0.4+.05-.07 , y =data+.01 , s='%.2f' % data , fontdict=dict(fontsize=10))\n",
    "\n",
    "for index,data in enumerate(test_score):\n",
    "    plt.text(x=index+0.6+.05-.07 , y =data+.01 , s='%.2f' % data , fontdict=dict(fontsize=10))\n",
    "\n",
    "plt.show()"
   ]
  },
  {
   "cell_type": "code",
   "execution_count": null,
   "id": "demanding-ecology",
   "metadata": {},
   "outputs": [],
   "source": []
  }
 ],
 "metadata": {
  "kernelspec": {
   "display_name": "Python 3",
   "language": "python",
   "name": "python3"
  },
  "language_info": {
   "codemirror_mode": {
    "name": "ipython",
    "version": 3
   },
   "file_extension": ".py",
   "mimetype": "text/x-python",
   "name": "python",
   "nbconvert_exporter": "python",
   "pygments_lexer": "ipython3",
   "version": "3.8.5"
  }
 },
 "nbformat": 4,
 "nbformat_minor": 5
}
